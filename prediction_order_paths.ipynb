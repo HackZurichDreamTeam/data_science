{
 "cells": [
  {
   "cell_type": "code",
   "execution_count": 1,
   "metadata": {},
   "outputs": [
    {
     "name": "stdout",
     "output_type": "stream",
     "text": [
      "/home/aparker/Documents/HackZurich/data_science\n"
     ]
    },
    {
     "data": {
      "text/html": [
       "<div>\n",
       "<style scoped>\n",
       "    .dataframe tbody tr th:only-of-type {\n",
       "        vertical-align: middle;\n",
       "    }\n",
       "\n",
       "    .dataframe tbody tr th {\n",
       "        vertical-align: top;\n",
       "    }\n",
       "\n",
       "    .dataframe thead th {\n",
       "        text-align: right;\n",
       "    }\n",
       "</style>\n",
       "<table border=\"1\" class=\"dataframe\">\n",
       "  <thead>\n",
       "    <tr style=\"text-align: right;\">\n",
       "      <th></th>\n",
       "      <th>date</th>\n",
       "      <th>longitude</th>\n",
       "      <th>latitude</th>\n",
       "      <th>imo_number</th>\n",
       "      <th>course</th>\n",
       "      <th>speed</th>\n",
       "      <th>name</th>\n",
       "      <th>destination</th>\n",
       "      <th>eta</th>\n",
       "    </tr>\n",
       "  </thead>\n",
       "  <tbody>\n",
       "    <tr>\n",
       "      <th>78</th>\n",
       "      <td>2020-12-31 01:07:00</td>\n",
       "      <td>48.28738</td>\n",
       "      <td>12.97589</td>\n",
       "      <td>9467251</td>\n",
       "      <td>256.0</td>\n",
       "      <td>18.3</td>\n",
       "      <td>CSCL VENUS</td>\n",
       "      <td>SUEZ CANAL</td>\n",
       "      <td>03.01.2021 13:00</td>\n",
       "    </tr>\n",
       "    <tr>\n",
       "      <th>72</th>\n",
       "      <td>2020-12-31 02:24:00</td>\n",
       "      <td>76.97161</td>\n",
       "      <td>6.79023</td>\n",
       "      <td>9780471</td>\n",
       "      <td>287.0</td>\n",
       "      <td>21.8</td>\n",
       "      <td>MUMBAI MAERSK</td>\n",
       "      <td>MYTPP-EGSUZ</td>\n",
       "      <td>06.01.2021 21:00</td>\n",
       "    </tr>\n",
       "    <tr>\n",
       "      <th>74</th>\n",
       "      <td>2020-12-31 03:35:00</td>\n",
       "      <td>43.03851</td>\n",
       "      <td>13.25825</td>\n",
       "      <td>9469560</td>\n",
       "      <td>319.0</td>\n",
       "      <td>17.4</td>\n",
       "      <td>MSC TERESA</td>\n",
       "      <td>EGSUZ</td>\n",
       "      <td>02.01.2021 11:00</td>\n",
       "    </tr>\n",
       "    <tr>\n",
       "      <th>77</th>\n",
       "      <td>2020-12-31 04:36:00</td>\n",
       "      <td>2.51231</td>\n",
       "      <td>37.15013</td>\n",
       "      <td>9708473</td>\n",
       "      <td>259.0</td>\n",
       "      <td>11.8</td>\n",
       "      <td>YM WREATH</td>\n",
       "      <td>NL RTM</td>\n",
       "      <td>04.01.2021 12:00</td>\n",
       "    </tr>\n",
       "    <tr>\n",
       "      <th>79</th>\n",
       "      <td>2020-12-31 04:42:00</td>\n",
       "      <td>40.64130</td>\n",
       "      <td>17.31714</td>\n",
       "      <td>9755933</td>\n",
       "      <td>329.0</td>\n",
       "      <td>19.6</td>\n",
       "      <td>MSC DIANA</td>\n",
       "      <td>SUEZ ANCHORAGE</td>\n",
       "      <td>02.01.2021 20:30</td>\n",
       "    </tr>\n",
       "    <tr>\n",
       "      <th>...</th>\n",
       "      <td>...</td>\n",
       "      <td>...</td>\n",
       "      <td>...</td>\n",
       "      <td>...</td>\n",
       "      <td>...</td>\n",
       "      <td>...</td>\n",
       "      <td>...</td>\n",
       "      <td>...</td>\n",
       "      <td>...</td>\n",
       "    </tr>\n",
       "    <tr>\n",
       "      <th>169154</th>\n",
       "      <td>2022-12-08 23:59:00</td>\n",
       "      <td>114.11709</td>\n",
       "      <td>22.33337</td>\n",
       "      <td>9647473</td>\n",
       "      <td>147.8</td>\n",
       "      <td>0.0</td>\n",
       "      <td>MSC VENICE</td>\n",
       "      <td>HK HKG</td>\n",
       "      <td>12.08.2022 11:00</td>\n",
       "    </tr>\n",
       "    <tr>\n",
       "      <th>169153</th>\n",
       "      <td>2022-12-08 23:59:00</td>\n",
       "      <td>4.05981</td>\n",
       "      <td>51.98498</td>\n",
       "      <td>9629380</td>\n",
       "      <td>111.4</td>\n",
       "      <td>7.7</td>\n",
       "      <td>TOKYO BAY</td>\n",
       "      <td>NLRTM</td>\n",
       "      <td>12.08.2022 21:00</td>\n",
       "    </tr>\n",
       "    <tr>\n",
       "      <th>169152</th>\n",
       "      <td>2022-12-08 23:59:00</td>\n",
       "      <td>2.51841</td>\n",
       "      <td>51.82301</td>\n",
       "      <td>9632002</td>\n",
       "      <td>220.1</td>\n",
       "      <td>8.7</td>\n",
       "      <td>APL SINGAPURA</td>\n",
       "      <td>BEANR</td>\n",
       "      <td>13.08.2022 05:30</td>\n",
       "    </tr>\n",
       "    <tr>\n",
       "      <th>169149</th>\n",
       "      <td>2022-12-08 23:59:00</td>\n",
       "      <td>25.41992</td>\n",
       "      <td>33.53022</td>\n",
       "      <td>9757216</td>\n",
       "      <td>285.1</td>\n",
       "      <td>12.1</td>\n",
       "      <td>YM WISDOM</td>\n",
       "      <td>NLRTM</td>\n",
       "      <td>24.08.2022 02:00</td>\n",
       "    </tr>\n",
       "    <tr>\n",
       "      <th>169119</th>\n",
       "      <td>2022-12-08 23:59:00</td>\n",
       "      <td>103.55614</td>\n",
       "      <td>1.33290</td>\n",
       "      <td>9321550</td>\n",
       "      <td>338.1</td>\n",
       "      <td>0.0</td>\n",
       "      <td>EUGEN MAERSK</td>\n",
       "      <td>CNYAT&gt;MYTPP</td>\n",
       "      <td>11.08.2022 10:00</td>\n",
       "    </tr>\n",
       "  </tbody>\n",
       "</table>\n",
       "<p>173811 rows × 9 columns</p>\n",
       "</div>"
      ],
      "text/plain": [
       "                      date  longitude  latitude  imo_number  course  speed  \\\n",
       "78     2020-12-31 01:07:00   48.28738  12.97589     9467251   256.0   18.3   \n",
       "72     2020-12-31 02:24:00   76.97161   6.79023     9780471   287.0   21.8   \n",
       "74     2020-12-31 03:35:00   43.03851  13.25825     9469560   319.0   17.4   \n",
       "77     2020-12-31 04:36:00    2.51231  37.15013     9708473   259.0   11.8   \n",
       "79     2020-12-31 04:42:00   40.64130  17.31714     9755933   329.0   19.6   \n",
       "...                    ...        ...       ...         ...     ...    ...   \n",
       "169154 2022-12-08 23:59:00  114.11709  22.33337     9647473   147.8    0.0   \n",
       "169153 2022-12-08 23:59:00    4.05981  51.98498     9629380   111.4    7.7   \n",
       "169152 2022-12-08 23:59:00    2.51841  51.82301     9632002   220.1    8.7   \n",
       "169149 2022-12-08 23:59:00   25.41992  33.53022     9757216   285.1   12.1   \n",
       "169119 2022-12-08 23:59:00  103.55614   1.33290     9321550   338.1    0.0   \n",
       "\n",
       "                 name     destination               eta  \n",
       "78         CSCL VENUS      SUEZ CANAL  03.01.2021 13:00  \n",
       "72      MUMBAI MAERSK     MYTPP-EGSUZ  06.01.2021 21:00  \n",
       "74         MSC TERESA           EGSUZ  02.01.2021 11:00  \n",
       "77          YM WREATH          NL RTM  04.01.2021 12:00  \n",
       "79          MSC DIANA  SUEZ ANCHORAGE  02.01.2021 20:30  \n",
       "...               ...             ...               ...  \n",
       "169154     MSC VENICE          HK HKG  12.08.2022 11:00  \n",
       "169153      TOKYO BAY           NLRTM  12.08.2022 21:00  \n",
       "169152  APL SINGAPURA           BEANR  13.08.2022 05:30  \n",
       "169149      YM WISDOM           NLRTM  24.08.2022 02:00  \n",
       "169119   EUGEN MAERSK     CNYAT>MYTPP  11.08.2022 10:00  \n",
       "\n",
       "[173811 rows x 9 columns]"
      ]
     },
     "execution_count": 1,
     "metadata": {},
     "output_type": "execute_result"
    }
   ],
   "source": [
    "import os\n",
    "import sys\n",
    "\n",
    "import pandas as pd\n",
    "import plotly.express as px\n",
    "import numpy as np\n",
    "import random\n",
    "import matplotlib.pyplot as plt\n",
    "from predict_location import predict_future_location\n",
    "\n",
    "print(os.getcwd())\n",
    "##\n",
    "# Set data science variables\n",
    "ship_trac_path =  \"./data/gis_opex_international_shiptrac.csv\"\n",
    "international_raw_ = \"./data/gis_opex_international_raw.csv\"\n",
    "ship_trac = pd.read_csv(ship_trac_path, sep=';')\n",
    "international_raw = pd.read_csv(international_raw_, sep=';')\n",
    "ship_trac[\"date\"] = pd.to_datetime(ship_trac[\"date\"])\n",
    "ship_trac.sort_values(by=\"date\", ascending = True, inplace=True)\n",
    "international_raw[\"datum_abgang\"] = pd.to_datetime(international_raw[\"datum_abgang\"])\n",
    "international_raw.sort_values(by=\"datum_abgang\", ascending = True, inplace=True)\n",
    "ship_trac"
   ]
  },
  {
   "cell_type": "code",
   "execution_count": 2,
   "metadata": {},
   "outputs": [
    {
     "data": {
      "text/html": [
       "<div>\n",
       "<style scoped>\n",
       "    .dataframe tbody tr th:only-of-type {\n",
       "        vertical-align: middle;\n",
       "    }\n",
       "\n",
       "    .dataframe tbody tr th {\n",
       "        vertical-align: top;\n",
       "    }\n",
       "\n",
       "    .dataframe thead th {\n",
       "        text-align: right;\n",
       "    }\n",
       "</style>\n",
       "<table border=\"1\" class=\"dataframe\">\n",
       "  <thead>\n",
       "    <tr style=\"text-align: right;\">\n",
       "      <th></th>\n",
       "      <th>date</th>\n",
       "      <th>longitude</th>\n",
       "      <th>latitude</th>\n",
       "      <th>imo_number</th>\n",
       "      <th>course</th>\n",
       "      <th>speed</th>\n",
       "      <th>name</th>\n",
       "      <th>destination</th>\n",
       "      <th>eta</th>\n",
       "    </tr>\n",
       "  </thead>\n",
       "  <tbody>\n",
       "    <tr>\n",
       "      <th>78</th>\n",
       "      <td>2020-12-31 01:07:00</td>\n",
       "      <td>48.28738</td>\n",
       "      <td>12.97589</td>\n",
       "      <td>9467251</td>\n",
       "      <td>256.0</td>\n",
       "      <td>18.3</td>\n",
       "      <td>CSCL VENUS</td>\n",
       "      <td>SUEZ CANAL</td>\n",
       "      <td>03.01.2021 13:00</td>\n",
       "    </tr>\n",
       "    <tr>\n",
       "      <th>130</th>\n",
       "      <td>2020-12-31 13:49:00</td>\n",
       "      <td>44.46358</td>\n",
       "      <td>12.15867</td>\n",
       "      <td>9467251</td>\n",
       "      <td>293.0</td>\n",
       "      <td>18.1</td>\n",
       "      <td>CSCL VENUS</td>\n",
       "      <td>SUEZ CANAL</td>\n",
       "      <td>03.01.2021 13:00</td>\n",
       "    </tr>\n",
       "    <tr>\n",
       "      <th>196</th>\n",
       "      <td>2020-12-31 20:44:00</td>\n",
       "      <td>42.82171</td>\n",
       "      <td>13.43471</td>\n",
       "      <td>9467251</td>\n",
       "      <td>308.0</td>\n",
       "      <td>20.3</td>\n",
       "      <td>CSCL VENUS</td>\n",
       "      <td>SUEZ CANAL</td>\n",
       "      <td>03.01.2021 13:00</td>\n",
       "    </tr>\n",
       "    <tr>\n",
       "      <th>252</th>\n",
       "      <td>2020-12-31 23:47:00</td>\n",
       "      <td>42.33441</td>\n",
       "      <td>14.26733</td>\n",
       "      <td>9467251</td>\n",
       "      <td>335.0</td>\n",
       "      <td>18.6</td>\n",
       "      <td>CSCL VENUS</td>\n",
       "      <td>SUEZ CANAL</td>\n",
       "      <td>03.01.2021 13:00</td>\n",
       "    </tr>\n",
       "    <tr>\n",
       "      <th>321</th>\n",
       "      <td>2021-01-01 06:39:00</td>\n",
       "      <td>41.29694</td>\n",
       "      <td>16.15548</td>\n",
       "      <td>9467251</td>\n",
       "      <td>331.0</td>\n",
       "      <td>18.5</td>\n",
       "      <td>CSCL VENUS</td>\n",
       "      <td>SUEZ CANAL</td>\n",
       "      <td>03.01.2021 13:00</td>\n",
       "    </tr>\n",
       "    <tr>\n",
       "      <th>...</th>\n",
       "      <td>...</td>\n",
       "      <td>...</td>\n",
       "      <td>...</td>\n",
       "      <td>...</td>\n",
       "      <td>...</td>\n",
       "      <td>...</td>\n",
       "      <td>...</td>\n",
       "      <td>...</td>\n",
       "      <td>...</td>\n",
       "    </tr>\n",
       "    <tr>\n",
       "      <th>135619</th>\n",
       "      <td>2022-12-04 23:57:00</td>\n",
       "      <td>35.63367</td>\n",
       "      <td>25.50978</td>\n",
       "      <td>9467251</td>\n",
       "      <td>325.8</td>\n",
       "      <td>18.0</td>\n",
       "      <td>CSCL VENUS</td>\n",
       "      <td>EG SZC</td>\n",
       "      <td>13.04.2022 20:00</td>\n",
       "    </tr>\n",
       "    <tr>\n",
       "      <th>160567</th>\n",
       "      <td>2022-12-07 06:59:00</td>\n",
       "      <td>9.91149</td>\n",
       "      <td>42.39056</td>\n",
       "      <td>9467251</td>\n",
       "      <td>4.3</td>\n",
       "      <td>17.9</td>\n",
       "      <td>CSCL VENUS</td>\n",
       "      <td>ITGOA</td>\n",
       "      <td>12.07.2022 13:00</td>\n",
       "    </tr>\n",
       "    <tr>\n",
       "      <th>160643</th>\n",
       "      <td>2022-12-07 13:59:00</td>\n",
       "      <td>8.80113</td>\n",
       "      <td>44.15310</td>\n",
       "      <td>9467251</td>\n",
       "      <td>336.6</td>\n",
       "      <td>15.5</td>\n",
       "      <td>CSCL VENUS</td>\n",
       "      <td>ITGOA</td>\n",
       "      <td>12.07.2022 13:00</td>\n",
       "    </tr>\n",
       "    <tr>\n",
       "      <th>160716</th>\n",
       "      <td>2022-12-07 20:57:00</td>\n",
       "      <td>8.77991</td>\n",
       "      <td>44.41942</td>\n",
       "      <td>9467251</td>\n",
       "      <td>262.3</td>\n",
       "      <td>0.1</td>\n",
       "      <td>CSCL VENUS</td>\n",
       "      <td>ITGOA</td>\n",
       "      <td>12.07.2022 13:00</td>\n",
       "    </tr>\n",
       "    <tr>\n",
       "      <th>160791</th>\n",
       "      <td>2022-12-07 23:57:00</td>\n",
       "      <td>8.78006</td>\n",
       "      <td>44.41937</td>\n",
       "      <td>9467251</td>\n",
       "      <td>268.5</td>\n",
       "      <td>0.0</td>\n",
       "      <td>CSCL VENUS</td>\n",
       "      <td>ITGOA</td>\n",
       "      <td>12.07.2022 13:00</td>\n",
       "    </tr>\n",
       "  </tbody>\n",
       "</table>\n",
       "<p>1290 rows × 9 columns</p>\n",
       "</div>"
      ],
      "text/plain": [
       "                      date  longitude  latitude  imo_number  course  speed  \\\n",
       "78     2020-12-31 01:07:00   48.28738  12.97589     9467251   256.0   18.3   \n",
       "130    2020-12-31 13:49:00   44.46358  12.15867     9467251   293.0   18.1   \n",
       "196    2020-12-31 20:44:00   42.82171  13.43471     9467251   308.0   20.3   \n",
       "252    2020-12-31 23:47:00   42.33441  14.26733     9467251   335.0   18.6   \n",
       "321    2021-01-01 06:39:00   41.29694  16.15548     9467251   331.0   18.5   \n",
       "...                    ...        ...       ...         ...     ...    ...   \n",
       "135619 2022-12-04 23:57:00   35.63367  25.50978     9467251   325.8   18.0   \n",
       "160567 2022-12-07 06:59:00    9.91149  42.39056     9467251     4.3   17.9   \n",
       "160643 2022-12-07 13:59:00    8.80113  44.15310     9467251   336.6   15.5   \n",
       "160716 2022-12-07 20:57:00    8.77991  44.41942     9467251   262.3    0.1   \n",
       "160791 2022-12-07 23:57:00    8.78006  44.41937     9467251   268.5    0.0   \n",
       "\n",
       "              name destination               eta  \n",
       "78      CSCL VENUS  SUEZ CANAL  03.01.2021 13:00  \n",
       "130     CSCL VENUS  SUEZ CANAL  03.01.2021 13:00  \n",
       "196     CSCL VENUS  SUEZ CANAL  03.01.2021 13:00  \n",
       "252     CSCL VENUS  SUEZ CANAL  03.01.2021 13:00  \n",
       "321     CSCL VENUS  SUEZ CANAL  03.01.2021 13:00  \n",
       "...            ...         ...               ...  \n",
       "135619  CSCL VENUS      EG SZC  13.04.2022 20:00  \n",
       "160567  CSCL VENUS       ITGOA  12.07.2022 13:00  \n",
       "160643  CSCL VENUS       ITGOA  12.07.2022 13:00  \n",
       "160716  CSCL VENUS       ITGOA  12.07.2022 13:00  \n",
       "160791  CSCL VENUS       ITGOA  12.07.2022 13:00  \n",
       "\n",
       "[1290 rows x 9 columns]"
      ]
     },
     "execution_count": 2,
     "metadata": {},
     "output_type": "execute_result"
    }
   ],
   "source": [
    "ship_trac[ship_trac[\"imo_number\"]==9467251]"
   ]
  },
  {
   "cell_type": "code",
   "execution_count": 3,
   "metadata": {},
   "outputs": [
    {
     "data": {
      "application/vnd.plotly.v1+json": {
       "config": {
        "plotlyServerURL": "https://plot.ly"
       },
       "data": [
        {
         "geo": "geo",
         "hovertemplate": "latitude=%{lat}<br>longitude=%{lon}<extra></extra>",
         "lat": [
          13.5346,
          15.64483,
          17.68245,
          18.5691,
          20.55016,
          21.4539,
          21.45383,
          21.4539,
          44.40485,
          44.40491,
          44.40495,
          44.21688,
          42.75455,
          41.5809,
          40.37775,
          39.88811,
          39.4472,
          39.44739,
          39.44723,
          39.44723,
          39.44723,
          39.58595,
          40.53341,
          41.10656,
          41.14798,
          41.1278,
          41.35171,
          41.3517,
          41.35168,
          41.3517,
          41.35168,
          41.3517,
          41.95576,
          43.40795,
          43.41023,
          43.41021,
          43.41023,
          21.55696,
          23.88805,
          25.75333,
          26.56491,
          28.21735,
          29.83723,
          29.83678,
          29.8369,
          29.83808,
          30.59426,
          31.78666,
          32.2258,
          33.18758,
          33.27685,
          35.2271,
          35.58395,
          36.36571,
          37.21481,
          37.29518,
          37.35113,
          37.89165,
          37.95301,
          37.95266,
          37.95291,
          37.77433,
          36.42535,
          36.18601,
          36.11183,
          35.92743,
          35.7823,
          35.84856,
          35.8766,
          35.79223,
          35.81851,
          35.81856,
          35.8185,
          35.81848,
          35.82278,
          37.06973,
          37.73201,
          39.881,
          41.86685,
          44.20286,
          44.40493
         ],
         "legendgroup": "",
         "lon": [
          42.68945,
          41.54668,
          40.44588,
          40.0424,
          39.08831,
          39.15826,
          39.15828,
          39.15825,
          8.91453,
          8.91446,
          8.91436,
          8.82573,
          6.53265,
          4.25561,
          2.1373,
          1.24575,
          -0.3131,
          -0.31319,
          -0.31311,
          -0.31308,
          -0.31313,
          0.3095,
          1.59078,
          2.07821,
          2.27786,
          2.31248,
          2.17038,
          2.17033,
          2.17033,
          2.17035,
          2.17033,
          2.17033,
          3.63831,
          4.85376,
          4.84701,
          4.84701,
          4.84696,
          38.82888,
          36.91936,
          35.4822,
          34.8747,
          33.31186,
          32.57086,
          32.57013,
          32.57023,
          32.56998,
          32.3312,
          31.92525,
          31.29063,
          29.86495,
          29.73926,
          26.78451,
          26.1519,
          24.67283,
          23.95346,
          23.99653,
          23.97258,
          23.63321,
          23.58943,
          23.58941,
          23.5894,
          23.62623,
          22.77243,
          20.29215,
          19.27355,
          16.6359,
          14.94553,
          14.97961,
          14.90886,
          14.6554,
          14.53853,
          14.53856,
          14.53851,
          14.53851,
          14.68416,
          12.87601,
          11.96725,
          11.0345,
          10.132,
          9.05453,
          8.91443
         ],
         "marker": {
          "color": "#636efa",
          "symbol": "circle"
         },
         "mode": "markers",
         "name": "",
         "showlegend": false,
         "type": "scattergeo"
        }
       ],
       "layout": {
        "geo": {
         "center": {},
         "domain": {
          "x": [
           0,
           1
          ],
          "y": [
           0,
           1
          ]
         }
        },
        "legend": {
         "tracegroupgap": 0
        },
        "margin": {
         "t": 60
        },
        "template": {
         "data": {
          "bar": [
           {
            "error_x": {
             "color": "#2a3f5f"
            },
            "error_y": {
             "color": "#2a3f5f"
            },
            "marker": {
             "line": {
              "color": "#E5ECF6",
              "width": 0.5
             },
             "pattern": {
              "fillmode": "overlay",
              "size": 10,
              "solidity": 0.2
             }
            },
            "type": "bar"
           }
          ],
          "barpolar": [
           {
            "marker": {
             "line": {
              "color": "#E5ECF6",
              "width": 0.5
             },
             "pattern": {
              "fillmode": "overlay",
              "size": 10,
              "solidity": 0.2
             }
            },
            "type": "barpolar"
           }
          ],
          "carpet": [
           {
            "aaxis": {
             "endlinecolor": "#2a3f5f",
             "gridcolor": "white",
             "linecolor": "white",
             "minorgridcolor": "white",
             "startlinecolor": "#2a3f5f"
            },
            "baxis": {
             "endlinecolor": "#2a3f5f",
             "gridcolor": "white",
             "linecolor": "white",
             "minorgridcolor": "white",
             "startlinecolor": "#2a3f5f"
            },
            "type": "carpet"
           }
          ],
          "choropleth": [
           {
            "colorbar": {
             "outlinewidth": 0,
             "ticks": ""
            },
            "type": "choropleth"
           }
          ],
          "contour": [
           {
            "colorbar": {
             "outlinewidth": 0,
             "ticks": ""
            },
            "colorscale": [
             [
              0,
              "#0d0887"
             ],
             [
              0.1111111111111111,
              "#46039f"
             ],
             [
              0.2222222222222222,
              "#7201a8"
             ],
             [
              0.3333333333333333,
              "#9c179e"
             ],
             [
              0.4444444444444444,
              "#bd3786"
             ],
             [
              0.5555555555555556,
              "#d8576b"
             ],
             [
              0.6666666666666666,
              "#ed7953"
             ],
             [
              0.7777777777777778,
              "#fb9f3a"
             ],
             [
              0.8888888888888888,
              "#fdca26"
             ],
             [
              1,
              "#f0f921"
             ]
            ],
            "type": "contour"
           }
          ],
          "contourcarpet": [
           {
            "colorbar": {
             "outlinewidth": 0,
             "ticks": ""
            },
            "type": "contourcarpet"
           }
          ],
          "heatmap": [
           {
            "colorbar": {
             "outlinewidth": 0,
             "ticks": ""
            },
            "colorscale": [
             [
              0,
              "#0d0887"
             ],
             [
              0.1111111111111111,
              "#46039f"
             ],
             [
              0.2222222222222222,
              "#7201a8"
             ],
             [
              0.3333333333333333,
              "#9c179e"
             ],
             [
              0.4444444444444444,
              "#bd3786"
             ],
             [
              0.5555555555555556,
              "#d8576b"
             ],
             [
              0.6666666666666666,
              "#ed7953"
             ],
             [
              0.7777777777777778,
              "#fb9f3a"
             ],
             [
              0.8888888888888888,
              "#fdca26"
             ],
             [
              1,
              "#f0f921"
             ]
            ],
            "type": "heatmap"
           }
          ],
          "heatmapgl": [
           {
            "colorbar": {
             "outlinewidth": 0,
             "ticks": ""
            },
            "colorscale": [
             [
              0,
              "#0d0887"
             ],
             [
              0.1111111111111111,
              "#46039f"
             ],
             [
              0.2222222222222222,
              "#7201a8"
             ],
             [
              0.3333333333333333,
              "#9c179e"
             ],
             [
              0.4444444444444444,
              "#bd3786"
             ],
             [
              0.5555555555555556,
              "#d8576b"
             ],
             [
              0.6666666666666666,
              "#ed7953"
             ],
             [
              0.7777777777777778,
              "#fb9f3a"
             ],
             [
              0.8888888888888888,
              "#fdca26"
             ],
             [
              1,
              "#f0f921"
             ]
            ],
            "type": "heatmapgl"
           }
          ],
          "histogram": [
           {
            "marker": {
             "pattern": {
              "fillmode": "overlay",
              "size": 10,
              "solidity": 0.2
             }
            },
            "type": "histogram"
           }
          ],
          "histogram2d": [
           {
            "colorbar": {
             "outlinewidth": 0,
             "ticks": ""
            },
            "colorscale": [
             [
              0,
              "#0d0887"
             ],
             [
              0.1111111111111111,
              "#46039f"
             ],
             [
              0.2222222222222222,
              "#7201a8"
             ],
             [
              0.3333333333333333,
              "#9c179e"
             ],
             [
              0.4444444444444444,
              "#bd3786"
             ],
             [
              0.5555555555555556,
              "#d8576b"
             ],
             [
              0.6666666666666666,
              "#ed7953"
             ],
             [
              0.7777777777777778,
              "#fb9f3a"
             ],
             [
              0.8888888888888888,
              "#fdca26"
             ],
             [
              1,
              "#f0f921"
             ]
            ],
            "type": "histogram2d"
           }
          ],
          "histogram2dcontour": [
           {
            "colorbar": {
             "outlinewidth": 0,
             "ticks": ""
            },
            "colorscale": [
             [
              0,
              "#0d0887"
             ],
             [
              0.1111111111111111,
              "#46039f"
             ],
             [
              0.2222222222222222,
              "#7201a8"
             ],
             [
              0.3333333333333333,
              "#9c179e"
             ],
             [
              0.4444444444444444,
              "#bd3786"
             ],
             [
              0.5555555555555556,
              "#d8576b"
             ],
             [
              0.6666666666666666,
              "#ed7953"
             ],
             [
              0.7777777777777778,
              "#fb9f3a"
             ],
             [
              0.8888888888888888,
              "#fdca26"
             ],
             [
              1,
              "#f0f921"
             ]
            ],
            "type": "histogram2dcontour"
           }
          ],
          "mesh3d": [
           {
            "colorbar": {
             "outlinewidth": 0,
             "ticks": ""
            },
            "type": "mesh3d"
           }
          ],
          "parcoords": [
           {
            "line": {
             "colorbar": {
              "outlinewidth": 0,
              "ticks": ""
             }
            },
            "type": "parcoords"
           }
          ],
          "pie": [
           {
            "automargin": true,
            "type": "pie"
           }
          ],
          "scatter": [
           {
            "fillpattern": {
             "fillmode": "overlay",
             "size": 10,
             "solidity": 0.2
            },
            "type": "scatter"
           }
          ],
          "scatter3d": [
           {
            "line": {
             "colorbar": {
              "outlinewidth": 0,
              "ticks": ""
             }
            },
            "marker": {
             "colorbar": {
              "outlinewidth": 0,
              "ticks": ""
             }
            },
            "type": "scatter3d"
           }
          ],
          "scattercarpet": [
           {
            "marker": {
             "colorbar": {
              "outlinewidth": 0,
              "ticks": ""
             }
            },
            "type": "scattercarpet"
           }
          ],
          "scattergeo": [
           {
            "marker": {
             "colorbar": {
              "outlinewidth": 0,
              "ticks": ""
             }
            },
            "type": "scattergeo"
           }
          ],
          "scattergl": [
           {
            "marker": {
             "colorbar": {
              "outlinewidth": 0,
              "ticks": ""
             }
            },
            "type": "scattergl"
           }
          ],
          "scattermapbox": [
           {
            "marker": {
             "colorbar": {
              "outlinewidth": 0,
              "ticks": ""
             }
            },
            "type": "scattermapbox"
           }
          ],
          "scatterpolar": [
           {
            "marker": {
             "colorbar": {
              "outlinewidth": 0,
              "ticks": ""
             }
            },
            "type": "scatterpolar"
           }
          ],
          "scatterpolargl": [
           {
            "marker": {
             "colorbar": {
              "outlinewidth": 0,
              "ticks": ""
             }
            },
            "type": "scatterpolargl"
           }
          ],
          "scatterternary": [
           {
            "marker": {
             "colorbar": {
              "outlinewidth": 0,
              "ticks": ""
             }
            },
            "type": "scatterternary"
           }
          ],
          "surface": [
           {
            "colorbar": {
             "outlinewidth": 0,
             "ticks": ""
            },
            "colorscale": [
             [
              0,
              "#0d0887"
             ],
             [
              0.1111111111111111,
              "#46039f"
             ],
             [
              0.2222222222222222,
              "#7201a8"
             ],
             [
              0.3333333333333333,
              "#9c179e"
             ],
             [
              0.4444444444444444,
              "#bd3786"
             ],
             [
              0.5555555555555556,
              "#d8576b"
             ],
             [
              0.6666666666666666,
              "#ed7953"
             ],
             [
              0.7777777777777778,
              "#fb9f3a"
             ],
             [
              0.8888888888888888,
              "#fdca26"
             ],
             [
              1,
              "#f0f921"
             ]
            ],
            "type": "surface"
           }
          ],
          "table": [
           {
            "cells": {
             "fill": {
              "color": "#EBF0F8"
             },
             "line": {
              "color": "white"
             }
            },
            "header": {
             "fill": {
              "color": "#C8D4E3"
             },
             "line": {
              "color": "white"
             }
            },
            "type": "table"
           }
          ]
         },
         "layout": {
          "annotationdefaults": {
           "arrowcolor": "#2a3f5f",
           "arrowhead": 0,
           "arrowwidth": 1
          },
          "autotypenumbers": "strict",
          "coloraxis": {
           "colorbar": {
            "outlinewidth": 0,
            "ticks": ""
           }
          },
          "colorscale": {
           "diverging": [
            [
             0,
             "#8e0152"
            ],
            [
             0.1,
             "#c51b7d"
            ],
            [
             0.2,
             "#de77ae"
            ],
            [
             0.3,
             "#f1b6da"
            ],
            [
             0.4,
             "#fde0ef"
            ],
            [
             0.5,
             "#f7f7f7"
            ],
            [
             0.6,
             "#e6f5d0"
            ],
            [
             0.7,
             "#b8e186"
            ],
            [
             0.8,
             "#7fbc41"
            ],
            [
             0.9,
             "#4d9221"
            ],
            [
             1,
             "#276419"
            ]
           ],
           "sequential": [
            [
             0,
             "#0d0887"
            ],
            [
             0.1111111111111111,
             "#46039f"
            ],
            [
             0.2222222222222222,
             "#7201a8"
            ],
            [
             0.3333333333333333,
             "#9c179e"
            ],
            [
             0.4444444444444444,
             "#bd3786"
            ],
            [
             0.5555555555555556,
             "#d8576b"
            ],
            [
             0.6666666666666666,
             "#ed7953"
            ],
            [
             0.7777777777777778,
             "#fb9f3a"
            ],
            [
             0.8888888888888888,
             "#fdca26"
            ],
            [
             1,
             "#f0f921"
            ]
           ],
           "sequentialminus": [
            [
             0,
             "#0d0887"
            ],
            [
             0.1111111111111111,
             "#46039f"
            ],
            [
             0.2222222222222222,
             "#7201a8"
            ],
            [
             0.3333333333333333,
             "#9c179e"
            ],
            [
             0.4444444444444444,
             "#bd3786"
            ],
            [
             0.5555555555555556,
             "#d8576b"
            ],
            [
             0.6666666666666666,
             "#ed7953"
            ],
            [
             0.7777777777777778,
             "#fb9f3a"
            ],
            [
             0.8888888888888888,
             "#fdca26"
            ],
            [
             1,
             "#f0f921"
            ]
           ]
          },
          "colorway": [
           "#636efa",
           "#EF553B",
           "#00cc96",
           "#ab63fa",
           "#FFA15A",
           "#19d3f3",
           "#FF6692",
           "#B6E880",
           "#FF97FF",
           "#FECB52"
          ],
          "font": {
           "color": "#2a3f5f"
          },
          "geo": {
           "bgcolor": "white",
           "lakecolor": "white",
           "landcolor": "#E5ECF6",
           "showlakes": true,
           "showland": true,
           "subunitcolor": "white"
          },
          "hoverlabel": {
           "align": "left"
          },
          "hovermode": "closest",
          "mapbox": {
           "style": "light"
          },
          "paper_bgcolor": "white",
          "plot_bgcolor": "#E5ECF6",
          "polar": {
           "angularaxis": {
            "gridcolor": "white",
            "linecolor": "white",
            "ticks": ""
           },
           "bgcolor": "#E5ECF6",
           "radialaxis": {
            "gridcolor": "white",
            "linecolor": "white",
            "ticks": ""
           }
          },
          "scene": {
           "xaxis": {
            "backgroundcolor": "#E5ECF6",
            "gridcolor": "white",
            "gridwidth": 2,
            "linecolor": "white",
            "showbackground": true,
            "ticks": "",
            "zerolinecolor": "white"
           },
           "yaxis": {
            "backgroundcolor": "#E5ECF6",
            "gridcolor": "white",
            "gridwidth": 2,
            "linecolor": "white",
            "showbackground": true,
            "ticks": "",
            "zerolinecolor": "white"
           },
           "zaxis": {
            "backgroundcolor": "#E5ECF6",
            "gridcolor": "white",
            "gridwidth": 2,
            "linecolor": "white",
            "showbackground": true,
            "ticks": "",
            "zerolinecolor": "white"
           }
          },
          "shapedefaults": {
           "line": {
            "color": "#2a3f5f"
           }
          },
          "ternary": {
           "aaxis": {
            "gridcolor": "white",
            "linecolor": "white",
            "ticks": ""
           },
           "baxis": {
            "gridcolor": "white",
            "linecolor": "white",
            "ticks": ""
           },
           "bgcolor": "#E5ECF6",
           "caxis": {
            "gridcolor": "white",
            "linecolor": "white",
            "ticks": ""
           }
          },
          "title": {
           "x": 0.05
          },
          "xaxis": {
           "automargin": true,
           "gridcolor": "white",
           "linecolor": "white",
           "ticks": "",
           "title": {
            "standoff": 15
           },
           "zerolinecolor": "white",
           "zerolinewidth": 2
          },
          "yaxis": {
           "automargin": true,
           "gridcolor": "white",
           "linecolor": "white",
           "ticks": "",
           "title": {
            "standoff": 15
           },
           "zerolinecolor": "white",
           "zerolinewidth": 2
          }
         }
        }
       }
      }
     },
     "metadata": {},
     "output_type": "display_data"
    }
   ],
   "source": [
    "unique_ship_labels = ship_trac['imo_number']\n",
    "for imo_nr in unique_ship_labels[0:10]:\n",
    "    imo_data = ship_trac[ship_trac['imo_number'] == imo_nr]\n",
    "    fig = px.scatter_geo(imo_data,lat='latitude',lon='longitude')\n",
    "fig.show()"
   ]
  },
  {
   "cell_type": "code",
   "execution_count": 4,
   "metadata": {},
   "outputs": [
    {
     "data": {
      "text/plain": [
       "[<matplotlib.lines.Line2D at 0x7ff10a4b7100>]"
      ]
     },
     "execution_count": 4,
     "metadata": {},
     "output_type": "execute_result"
    },
    {
     "data": {
      "image/png": "[encoded data removed]",
      "text/plain": [
       "<Figure size 432x288 with 1 Axes>"
      ]
     },
     "metadata": {
      "needs_background": "light"
     },
     "output_type": "display_data"
    }
   ],
   "source": [
    "error_list = []\n",
    "import timedelta\n",
    "for imo_nr in unique_ship_labels[:1000]:\n",
    "    imo_data = ship_trac[ship_trac['imo_number'] == imo_nr]\n",
    "    no_measurements = len(imo_data)\n",
    "    if no_measurements >3:\n",
    "        rand = random.randrange(no_measurements-1)\n",
    "        date, lat, long, speed, course =imo_data.iloc[rand][[\"date\", \"latitude\", \"longitude\", \"speed\", \"course\"]]\n",
    "        next_date, next_lat, next_long, next_speed, next_course =imo_data.iloc[rand+1][[\"date\", \"latitude\", \"longitude\", \"speed\", \"course\"]]\n",
    "        #print(lat, long)\n",
    "        #print(next_lat, next_long)\n",
    "        time_diff = td = timedelta.Timedelta(next_date - date).total.seconds/(60*60)\n",
    "        pred_lat, pred_long = predict_future_location(lat, long, speed, course, time_diff)\n",
    "        #print(pred_lat, pred_long)\n",
    "        error = np.sqrt((next_lat-pred_lat)**2 + (next_long-pred_long)**2)\n",
    "        error_list.append(error)\n",
    "plt.plot(error_list)"
   ]
  },
  {
   "cell_type": "code",
   "execution_count": 5,
   "metadata": {},
   "outputs": [
    {
     "data": {
      "text/plain": [
       "0.5213287526776734"
      ]
     },
     "execution_count": 5,
     "metadata": {},
     "output_type": "execute_result"
    }
   ],
   "source": [
    "np.median(error_list)"
   ]
  }
 ],
 "metadata": {
  "kernelspec": {
   "display_name": "Python 3.8.13 ('hackzurich')",
   "language": "python",
   "name": "python3"
  },
  "language_info": {
   "codemirror_mode": {
    "name": "ipython",
    "version": 3
   },
   "file_extension": ".py",
   "mimetype": "text/x-python",
   "name": "python",
   "nbconvert_exporter": "python",
   "pygments_lexer": "ipython3",
   "version": "3.8.13"
  },
  "orig_nbformat": 4,
  "vscode": {
   "interpreter": {
    "hash": "6f802473bb994a657c34a5ac13d7d1a4d2c5f2d934790cc0cad63346b6dacfbc"
   }
  }
 },
 "nbformat": 4,
 "nbformat_minor": 2
}
