{
 "cells": [
  {
   "cell_type": "code",
   "execution_count": 139,
   "metadata": {},
   "outputs": [],
   "source": [
    "import pandas as pd\n",
    "from datetime import datetime\n",
    "import matplotlib.pyplot as plt"
   ]
  },
  {
   "cell_type": "code",
   "execution_count": 140,
   "metadata": {},
   "outputs": [],
   "source": [
    "df = pd.read_csv('gis_opex_international_raw_trac.csv',sep=';')"
   ]
  },
  {
   "cell_type": "code",
   "execution_count": 143,
   "metadata": {},
   "outputs": [
    {
     "data": {
      "text/html": [
       "<div>\n",
       "<style scoped>\n",
       "    .dataframe tbody tr th:only-of-type {\n",
       "        vertical-align: middle;\n",
       "    }\n",
       "\n",
       "    .dataframe tbody tr th {\n",
       "        vertical-align: top;\n",
       "    }\n",
       "\n",
       "    .dataframe thead th {\n",
       "        text-align: right;\n",
       "    }\n",
       "</style>\n",
       "<table border=\"1\" class=\"dataframe\">\n",
       "  <thead>\n",
       "    <tr style=\"text-align: right;\">\n",
       "      <th></th>\n",
       "      <th>container</th>\n",
       "      <th>schiff</th>\n",
       "      <th>sea_etd_pol</th>\n",
       "      <th>sea_eta_pod</th>\n",
       "      <th>sea_dat_ank_hafen</th>\n",
       "      <th>sea_dat_cont_entl</th>\n",
       "      <th>sea_dat_abf_hafen</th>\n",
       "      <th>sea_dat_ank_vz</th>\n",
       "      <th>pod_id</th>\n",
       "      <th>pod_name</th>\n",
       "      <th>pod_land</th>\n",
       "      <th>delays</th>\n",
       "    </tr>\n",
       "  </thead>\n",
       "  <tbody>\n",
       "    <tr>\n",
       "      <th>0</th>\n",
       "      <td>HLBU3284461</td>\n",
       "      <td>AL NASRIYAH</td>\n",
       "      <td>27.11.2020 00:00</td>\n",
       "      <td>2021-12-01</td>\n",
       "      <td>2021-12-01</td>\n",
       "      <td>13.01.2021 00:00</td>\n",
       "      <td>18.01.2021 00:00</td>\n",
       "      <td>NaN</td>\n",
       "      <td>NaN</td>\n",
       "      <td>NaN</td>\n",
       "      <td>NaN</td>\n",
       "      <td>0.0</td>\n",
       "    </tr>\n",
       "    <tr>\n",
       "      <th>1</th>\n",
       "      <td>MSKU6283599</td>\n",
       "      <td>MILAN MAERSK</td>\n",
       "      <td>24.11.2020 00:00</td>\n",
       "      <td>2020-12-26</td>\n",
       "      <td>2020-12-29</td>\n",
       "      <td>29.12.2020 00:00</td>\n",
       "      <td>22.01.2021 00:00</td>\n",
       "      <td>27.01.2021 00:00</td>\n",
       "      <td>NaN</td>\n",
       "      <td>NaN</td>\n",
       "      <td>NaN</td>\n",
       "      <td>4320.0</td>\n",
       "    </tr>\n",
       "    <tr>\n",
       "      <th>2</th>\n",
       "      <td>MRKU0657914</td>\n",
       "      <td>MSC PALOMA</td>\n",
       "      <td>08.11.2020 00:00</td>\n",
       "      <td>2020-10-12</td>\n",
       "      <td>2020-10-12</td>\n",
       "      <td>11.12.2020 00:00</td>\n",
       "      <td>04.01.2021 00:00</td>\n",
       "      <td>06.01.2021 00:00</td>\n",
       "      <td>NaN</td>\n",
       "      <td>NaN</td>\n",
       "      <td>NaN</td>\n",
       "      <td>0.0</td>\n",
       "    </tr>\n",
       "    <tr>\n",
       "      <th>3</th>\n",
       "      <td>CGMU5409490</td>\n",
       "      <td>COSCO SHIPPING LIBRA</td>\n",
       "      <td>21.08.2020 00:00</td>\n",
       "      <td>2020-06-10</td>\n",
       "      <td>2020-06-10</td>\n",
       "      <td>06.10.2020 00:00</td>\n",
       "      <td>10.10.2020 00:00</td>\n",
       "      <td>19.10.2020 00:00</td>\n",
       "      <td>NaN</td>\n",
       "      <td>NaN</td>\n",
       "      <td>NaN</td>\n",
       "      <td>0.0</td>\n",
       "    </tr>\n",
       "    <tr>\n",
       "      <th>4</th>\n",
       "      <td>MRKU7869258</td>\n",
       "      <td>MSC NEW YORK</td>\n",
       "      <td>16.10.2020 00:00</td>\n",
       "      <td>2020-11-12</td>\n",
       "      <td>2020-11-12</td>\n",
       "      <td>12.12.2020 00:00</td>\n",
       "      <td>20.12.2020 00:00</td>\n",
       "      <td>31.12.2020 00:00</td>\n",
       "      <td>NaN</td>\n",
       "      <td>NaN</td>\n",
       "      <td>NaN</td>\n",
       "      <td>0.0</td>\n",
       "    </tr>\n",
       "    <tr>\n",
       "      <th>...</th>\n",
       "      <td>...</td>\n",
       "      <td>...</td>\n",
       "      <td>...</td>\n",
       "      <td>...</td>\n",
       "      <td>...</td>\n",
       "      <td>...</td>\n",
       "      <td>...</td>\n",
       "      <td>...</td>\n",
       "      <td>...</td>\n",
       "      <td>...</td>\n",
       "      <td>...</td>\n",
       "      <td>...</td>\n",
       "    </tr>\n",
       "    <tr>\n",
       "      <th>10521</th>\n",
       "      <td>CLHU4801524</td>\n",
       "      <td>YM FOUNTAIN</td>\n",
       "      <td>05.07.2022 00:00</td>\n",
       "      <td>2022-07-30</td>\n",
       "      <td>2022-02-08</td>\n",
       "      <td>02.08.2022 00:00</td>\n",
       "      <td>12.08.2022 00:00</td>\n",
       "      <td>31.08.2022 00:00</td>\n",
       "      <td>RTM</td>\n",
       "      <td>Rotterdam</td>\n",
       "      <td>NL</td>\n",
       "      <td>-247680.0</td>\n",
       "    </tr>\n",
       "    <tr>\n",
       "      <th>10522</th>\n",
       "      <td>MEDU7949584</td>\n",
       "      <td>MUNICH MAERSK</td>\n",
       "      <td>11.07.2022 00:00</td>\n",
       "      <td>2022-08-26</td>\n",
       "      <td>2022-08-26</td>\n",
       "      <td>27.08.2022 00:00</td>\n",
       "      <td>NaN</td>\n",
       "      <td>NaN</td>\n",
       "      <td>RTM</td>\n",
       "      <td>Rotterdam</td>\n",
       "      <td>NL</td>\n",
       "      <td>0.0</td>\n",
       "    </tr>\n",
       "    <tr>\n",
       "      <th>10523</th>\n",
       "      <td>MSMU1992340</td>\n",
       "      <td>MUMBAI MAERSK</td>\n",
       "      <td>06.07.2022 00:00</td>\n",
       "      <td>2022-12-08</td>\n",
       "      <td>2022-12-08</td>\n",
       "      <td>NaN</td>\n",
       "      <td>23.08.2022 00:00</td>\n",
       "      <td>NaN</td>\n",
       "      <td>RTM</td>\n",
       "      <td>Rotterdam</td>\n",
       "      <td>NL</td>\n",
       "      <td>0.0</td>\n",
       "    </tr>\n",
       "    <tr>\n",
       "      <th>10524</th>\n",
       "      <td>PONU1865787</td>\n",
       "      <td>MANILA MAERSK</td>\n",
       "      <td>05.07.2022 00:00</td>\n",
       "      <td>2022-07-31</td>\n",
       "      <td>2022-07-31</td>\n",
       "      <td>01.08.2022 00:00</td>\n",
       "      <td>16.08.2022 00:00</td>\n",
       "      <td>30.08.2022 00:00</td>\n",
       "      <td>RTM</td>\n",
       "      <td>Rotterdam</td>\n",
       "      <td>NL</td>\n",
       "      <td>0.0</td>\n",
       "    </tr>\n",
       "    <tr>\n",
       "      <th>10525</th>\n",
       "      <td>HLBU2492500</td>\n",
       "      <td>COSCO SHIPPING VOLGA</td>\n",
       "      <td>20.07.2022 00:00</td>\n",
       "      <td>2022-08-16</td>\n",
       "      <td>2022-08-18</td>\n",
       "      <td>19.08.2022 00:00</td>\n",
       "      <td>25.08.2022 00:00</td>\n",
       "      <td>NaN</td>\n",
       "      <td>RTM</td>\n",
       "      <td>Rotterdam</td>\n",
       "      <td>NL</td>\n",
       "      <td>2880.0</td>\n",
       "    </tr>\n",
       "  </tbody>\n",
       "</table>\n",
       "<p>10526 rows × 12 columns</p>\n",
       "</div>"
      ],
      "text/plain": [
       "         container                schiff       sea_etd_pol sea_eta_pod  \\\n",
       "0      HLBU3284461           AL NASRIYAH  27.11.2020 00:00  2021-12-01   \n",
       "1      MSKU6283599          MILAN MAERSK  24.11.2020 00:00  2020-12-26   \n",
       "2      MRKU0657914            MSC PALOMA  08.11.2020 00:00  2020-10-12   \n",
       "3      CGMU5409490  COSCO SHIPPING LIBRA  21.08.2020 00:00  2020-06-10   \n",
       "4      MRKU7869258          MSC NEW YORK  16.10.2020 00:00  2020-11-12   \n",
       "...            ...                   ...               ...         ...   \n",
       "10521  CLHU4801524           YM FOUNTAIN  05.07.2022 00:00  2022-07-30   \n",
       "10522  MEDU7949584         MUNICH MAERSK  11.07.2022 00:00  2022-08-26   \n",
       "10523  MSMU1992340         MUMBAI MAERSK  06.07.2022 00:00  2022-12-08   \n",
       "10524  PONU1865787         MANILA MAERSK  05.07.2022 00:00  2022-07-31   \n",
       "10525  HLBU2492500  COSCO SHIPPING VOLGA  20.07.2022 00:00  2022-08-16   \n",
       "\n",
       "      sea_dat_ank_hafen sea_dat_cont_entl sea_dat_abf_hafen    sea_dat_ank_vz  \\\n",
       "0            2021-12-01  13.01.2021 00:00  18.01.2021 00:00               NaN   \n",
       "1            2020-12-29  29.12.2020 00:00  22.01.2021 00:00  27.01.2021 00:00   \n",
       "2            2020-10-12  11.12.2020 00:00  04.01.2021 00:00  06.01.2021 00:00   \n",
       "3            2020-06-10  06.10.2020 00:00  10.10.2020 00:00  19.10.2020 00:00   \n",
       "4            2020-11-12  12.12.2020 00:00  20.12.2020 00:00  31.12.2020 00:00   \n",
       "...                 ...               ...               ...               ...   \n",
       "10521        2022-02-08  02.08.2022 00:00  12.08.2022 00:00  31.08.2022 00:00   \n",
       "10522        2022-08-26  27.08.2022 00:00               NaN               NaN   \n",
       "10523        2022-12-08               NaN  23.08.2022 00:00               NaN   \n",
       "10524        2022-07-31  01.08.2022 00:00  16.08.2022 00:00  30.08.2022 00:00   \n",
       "10525        2022-08-18  19.08.2022 00:00  25.08.2022 00:00               NaN   \n",
       "\n",
       "      pod_id   pod_name pod_land    delays  \n",
       "0        NaN        NaN      NaN       0.0  \n",
       "1        NaN        NaN      NaN    4320.0  \n",
       "2        NaN        NaN      NaN       0.0  \n",
       "3        NaN        NaN      NaN       0.0  \n",
       "4        NaN        NaN      NaN       0.0  \n",
       "...      ...        ...      ...       ...  \n",
       "10521    RTM  Rotterdam       NL -247680.0  \n",
       "10522    RTM  Rotterdam       NL       0.0  \n",
       "10523    RTM  Rotterdam       NL       0.0  \n",
       "10524    RTM  Rotterdam       NL       0.0  \n",
       "10525    RTM  Rotterdam       NL    2880.0  \n",
       "\n",
       "[10526 rows x 12 columns]"
      ]
     },
     "execution_count": 143,
     "metadata": {},
     "output_type": "execute_result"
    }
   ],
   "source": [
    "fmt = '%d.%m.%Y %H:%M'\n",
    "df['sea_dat_ank_hafen'] = df['sea_dat_ank_hafen'].astype(\"string\")\n",
    "df['sea_eta_pod'] = df['sea_eta_pod'].astype(\"string\")\n",
    "#df\n",
    "\n",
    "df['sea_dat_ank_hafen']= pd.to_datetime(df['sea_dat_ank_hafen']).apply(lambda dt_entry: dt_entry.round(freq=\"H\"))\n",
    "df['sea_eta_pod']= pd.to_datetime(df['sea_eta_pod']).apply(lambda dt_entry: dt_entry.round(freq=\"H\"))\n",
    "df[\"delays\"] = (df[\"sea_dat_ank_hafen\"] - df[\"sea_eta_pod\"]).dt.total_seconds() / 60.0\n",
    "df\n"
   ]
  },
  {
   "cell_type": "code",
   "execution_count": 178,
   "metadata": {},
   "outputs": [
    {
     "data": {
      "text/html": [
       "<div>\n",
       "<style scoped>\n",
       "    .dataframe tbody tr th:only-of-type {\n",
       "        vertical-align: middle;\n",
       "    }\n",
       "\n",
       "    .dataframe tbody tr th {\n",
       "        vertical-align: top;\n",
       "    }\n",
       "\n",
       "    .dataframe thead th {\n",
       "        text-align: right;\n",
       "    }\n",
       "</style>\n",
       "<table border=\"1\" class=\"dataframe\">\n",
       "  <thead>\n",
       "    <tr style=\"text-align: right;\">\n",
       "      <th></th>\n",
       "      <th>container</th>\n",
       "      <th>schiff</th>\n",
       "      <th>sea_etd_pol</th>\n",
       "      <th>sea_eta_pod</th>\n",
       "      <th>sea_dat_ank_hafen</th>\n",
       "      <th>sea_dat_cont_entl</th>\n",
       "      <th>sea_dat_abf_hafen</th>\n",
       "      <th>sea_dat_ank_vz</th>\n",
       "      <th>pod_id</th>\n",
       "      <th>pod_name</th>\n",
       "      <th>pod_land</th>\n",
       "      <th>delays</th>\n",
       "    </tr>\n",
       "  </thead>\n",
       "  <tbody>\n",
       "  </tbody>\n",
       "</table>\n",
       "</div>"
      ],
      "text/plain": [
       "Empty DataFrame\n",
       "Columns: [container, schiff, sea_etd_pol, sea_eta_pod, sea_dat_ank_hafen, sea_dat_cont_entl, sea_dat_abf_hafen, sea_dat_ank_vz, pod_id, pod_name, pod_land, delays]\n",
       "Index: []"
      ]
     },
     "execution_count": 178,
     "metadata": {},
     "output_type": "execute_result"
    }
   ],
   "source": [
    "df[((df[\"delays\"] / 60) < 20) & ((df[\"delays\"] / 60) > 0)]"
   ]
  },
  {
   "cell_type": "code",
   "execution_count": 145,
   "metadata": {},
   "outputs": [
    {
     "data": {
      "text/plain": [
       "<seaborn.axisgrid.FacetGrid at 0x7f9d546d5760>"
      ]
     },
     "execution_count": 145,
     "metadata": {},
     "output_type": "execute_result"
    },
    {
     "data": {
      "image/png": "[encoded data removed]",
      "text/plain": [
       "<Figure size 360x360 with 1 Axes>"
      ]
     },
     "metadata": {
      "needs_background": "light"
     },
     "output_type": "display_data"
    }
   ],
   "source": [
    "sns.displot(df, x=\"delays\",bins=50)\n",
    "#plt.xlim(-3000, 3000)\n"
   ]
  },
  {
   "cell_type": "code",
   "execution_count": 146,
   "metadata": {},
   "outputs": [],
   "source": [
    "df2 = pd.read_csv(\"gis_opex_international_raw.csv\",sep=\";\")\n",
    "merged_df = pd.merge(df,df2,on=\"container\")"
   ]
  },
  {
   "cell_type": "code",
   "execution_count": 149,
   "metadata": {},
   "outputs": [],
   "source": [
    "proviamo  =merged_df[['container','schiff_x','delays','pol_name','pod_name_y','imo_nr']]"
   ]
  },
  {
   "cell_type": "code",
   "execution_count": 152,
   "metadata": {},
   "outputs": [
    {
     "name": "stderr",
     "output_type": "stream",
     "text": [
      "/var/folders/7g/2ds3y3yd6319x1125r61pg1c0000gn/T/ipykernel_52544/927576637.py:2: SettingWithCopyWarning: \n",
      "A value is trying to be set on a copy of a slice from a DataFrame.\n",
      "Try using .loc[row_indexer,col_indexer] = value instead\n",
      "\n",
      "See the caveats in the documentation: https://pandas.pydata.org/pandas-docs/stable/user_guide/indexing.html#returning-a-view-versus-a-copy\n",
      "  proviamo[\"imo_nr\"] = proviamo[\"imo_nr\"].astype(\"int\")\n"
     ]
    },
    {
     "data": {
      "text/html": [
       "<div>\n",
       "<style scoped>\n",
       "    .dataframe tbody tr th:only-of-type {\n",
       "        vertical-align: middle;\n",
       "    }\n",
       "\n",
       "    .dataframe tbody tr th {\n",
       "        vertical-align: top;\n",
       "    }\n",
       "\n",
       "    .dataframe thead th {\n",
       "        text-align: right;\n",
       "    }\n",
       "</style>\n",
       "<table border=\"1\" class=\"dataframe\">\n",
       "  <thead>\n",
       "    <tr style=\"text-align: right;\">\n",
       "      <th></th>\n",
       "      <th>container</th>\n",
       "      <th>schiff_x</th>\n",
       "      <th>delays</th>\n",
       "      <th>pol_name</th>\n",
       "      <th>pod_name_y</th>\n",
       "      <th>imo_nr</th>\n",
       "    </tr>\n",
       "  </thead>\n",
       "  <tbody>\n",
       "    <tr>\n",
       "      <th>2</th>\n",
       "      <td>FTAU1264292</td>\n",
       "      <td>MSC FEBE</td>\n",
       "      <td>8640.0</td>\n",
       "      <td>Yantian</td>\n",
       "      <td>Genoa</td>\n",
       "      <td>9839478</td>\n",
       "    </tr>\n",
       "    <tr>\n",
       "      <th>3</th>\n",
       "      <td>FTAU1264292</td>\n",
       "      <td>MSC FEBE</td>\n",
       "      <td>8640.0</td>\n",
       "      <td>Yantian</td>\n",
       "      <td>Genoa</td>\n",
       "      <td>9839478</td>\n",
       "    </tr>\n",
       "    <tr>\n",
       "      <th>4</th>\n",
       "      <td>FTAU1264292</td>\n",
       "      <td>MSC FEBE</td>\n",
       "      <td>8640.0</td>\n",
       "      <td>Yantian</td>\n",
       "      <td>Genoa</td>\n",
       "      <td>9839478</td>\n",
       "    </tr>\n",
       "    <tr>\n",
       "      <th>5</th>\n",
       "      <td>MSCU5844525</td>\n",
       "      <td>MOSCOW MAERSK</td>\n",
       "      <td>0.0</td>\n",
       "      <td>Ningbo</td>\n",
       "      <td>Antwerpen</td>\n",
       "      <td>9778818</td>\n",
       "    </tr>\n",
       "    <tr>\n",
       "      <th>6</th>\n",
       "      <td>MSCU5844525</td>\n",
       "      <td>MOSCOW MAERSK</td>\n",
       "      <td>0.0</td>\n",
       "      <td>Ningbo</td>\n",
       "      <td>Antwerpen</td>\n",
       "      <td>9778818</td>\n",
       "    </tr>\n",
       "    <tr>\n",
       "      <th>...</th>\n",
       "      <td>...</td>\n",
       "      <td>...</td>\n",
       "      <td>...</td>\n",
       "      <td>...</td>\n",
       "      <td>...</td>\n",
       "      <td>...</td>\n",
       "    </tr>\n",
       "    <tr>\n",
       "      <th>37582</th>\n",
       "      <td>MEDU7949584</td>\n",
       "      <td>MUNICH MAERSK</td>\n",
       "      <td>0.0</td>\n",
       "      <td>Dalian</td>\n",
       "      <td>Rotterdam</td>\n",
       "      <td>9778806</td>\n",
       "    </tr>\n",
       "    <tr>\n",
       "      <th>37583</th>\n",
       "      <td>MSMU1992340</td>\n",
       "      <td>MUMBAI MAERSK</td>\n",
       "      <td>0.0</td>\n",
       "      <td>Tianjinxingang</td>\n",
       "      <td>Rotterdam</td>\n",
       "      <td>9780471</td>\n",
       "    </tr>\n",
       "    <tr>\n",
       "      <th>37584</th>\n",
       "      <td>MSMU1992340</td>\n",
       "      <td>MUMBAI MAERSK</td>\n",
       "      <td>0.0</td>\n",
       "      <td>Tianjinxingang</td>\n",
       "      <td>Rotterdam</td>\n",
       "      <td>9780471</td>\n",
       "    </tr>\n",
       "    <tr>\n",
       "      <th>37585</th>\n",
       "      <td>PONU1865787</td>\n",
       "      <td>MANILA MAERSK</td>\n",
       "      <td>0.0</td>\n",
       "      <td>Yantian Pt</td>\n",
       "      <td>Rotterdam</td>\n",
       "      <td>9780469</td>\n",
       "    </tr>\n",
       "    <tr>\n",
       "      <th>37586</th>\n",
       "      <td>PONU1865787</td>\n",
       "      <td>MANILA MAERSK</td>\n",
       "      <td>0.0</td>\n",
       "      <td>Yantian Pt</td>\n",
       "      <td>Rotterdam</td>\n",
       "      <td>9780469</td>\n",
       "    </tr>\n",
       "  </tbody>\n",
       "</table>\n",
       "<p>30075 rows × 6 columns</p>\n",
       "</div>"
      ],
      "text/plain": [
       "         container       schiff_x  delays        pol_name pod_name_y   imo_nr\n",
       "2      FTAU1264292       MSC FEBE  8640.0         Yantian      Genoa  9839478\n",
       "3      FTAU1264292       MSC FEBE  8640.0         Yantian      Genoa  9839478\n",
       "4      FTAU1264292       MSC FEBE  8640.0         Yantian      Genoa  9839478\n",
       "5      MSCU5844525  MOSCOW MAERSK     0.0          Ningbo  Antwerpen  9778818\n",
       "6      MSCU5844525  MOSCOW MAERSK     0.0          Ningbo  Antwerpen  9778818\n",
       "...            ...            ...     ...             ...        ...      ...\n",
       "37582  MEDU7949584  MUNICH MAERSK     0.0          Dalian  Rotterdam  9778806\n",
       "37583  MSMU1992340  MUMBAI MAERSK     0.0  Tianjinxingang  Rotterdam  9780471\n",
       "37584  MSMU1992340  MUMBAI MAERSK     0.0  Tianjinxingang  Rotterdam  9780471\n",
       "37585  PONU1865787  MANILA MAERSK     0.0      Yantian Pt  Rotterdam  9780469\n",
       "37586  PONU1865787  MANILA MAERSK     0.0      Yantian Pt  Rotterdam  9780469\n",
       "\n",
       "[30075 rows x 6 columns]"
      ]
     },
     "execution_count": 152,
     "metadata": {},
     "output_type": "execute_result"
    }
   ],
   "source": [
    "proviamo = proviamo[proviamo[\"imo_nr\"].notna()] \n",
    "proviamo[\"imo_nr\"] = proviamo[\"imo_nr\"].astype(\"int\")\n",
    "proviamo"
   ]
  },
  {
   "cell_type": "code",
   "execution_count": 153,
   "metadata": {},
   "outputs": [],
   "source": [
    "df3 = pd.read_csv(\"gis_opex_international_shiptrac.csv\",sep=\";\")\n",
    "final = pd.merge(proviamo,df3,left_on=\"imo_nr\",right_on=\"imo_number\")"
   ]
  },
  {
   "cell_type": "code",
   "execution_count": 154,
   "metadata": {},
   "outputs": [],
   "source": [
    "boh = final.groupby([\"pol_name\",\"pod_name_y\"]).destination.unique().to_frame().reset_index()"
   ]
  },
  {
   "cell_type": "code",
   "execution_count": 156,
   "metadata": {},
   "outputs": [],
   "source": [
    "finale_ale = pd.merge(proviamo,boh,on=[\"pol_name\",\"pod_name_y\"])\n",
    "\n",
    "finale_ale = finale_ale[~finale_ale['destination'].apply(tuple).duplicated()]"
   ]
  },
  {
   "cell_type": "code",
   "execution_count": 157,
   "metadata": {},
   "outputs": [],
   "source": [
    "finale_ale[\"delays\"] = finale_ale[\"delays\"] / 60"
   ]
  },
  {
   "cell_type": "code",
   "execution_count": 158,
   "metadata": {},
   "outputs": [
    {
     "name": "stderr",
     "output_type": "stream",
     "text": [
      "/Users/giomonopoli/miniconda3/envs/adaexam/lib/python3.8/site-packages/seaborn/distributions.py:2619: FutureWarning: `distplot` is a deprecated function and will be removed in a future version. Please adapt your code to use either `displot` (a figure-level function with similar flexibility) or `histplot` (an axes-level function for histograms).\n",
      "  warnings.warn(msg, FutureWarning)\n"
     ]
    },
    {
     "data": {
      "text/plain": [
       "(0.0, 2000.0)"
      ]
     },
     "execution_count": 158,
     "metadata": {},
     "output_type": "execute_result"
    },
    {
     "data": {
      "image/png": "[encoded data removed]",
      "text/plain": [
       "<Figure size 432x288 with 1 Axes>"
      ]
     },
     "metadata": {
      "needs_background": "light"
     },
     "output_type": "display_data"
    }
   ],
   "source": [
    "sns.distplot((finale_ale[\"delays\"]),bins=10)\n",
    "plt.xlim((0,2000))"
   ]
  },
  {
   "cell_type": "code",
   "execution_count": 160,
   "metadata": {},
   "outputs": [],
   "source": [
    "finale_ale = finale_ale[(finale_ale[\"delays\"] > 0) & (finale_ale[\"delays\"] < 1500)]"
   ]
  },
  {
   "cell_type": "code",
   "execution_count": 179,
   "metadata": {},
   "outputs": [],
   "source": [
    "finale_ale['quantile_ex_1'] = pd.qcut(finale_ale[\"delays\"], q=2,labels=False)"
   ]
  },
  {
   "cell_type": "code",
   "execution_count": 180,
   "metadata": {},
   "outputs": [],
   "source": [
    "finale_ale = finale_ale.dropna(subset=['delays'])"
   ]
  },
  {
   "cell_type": "code",
   "execution_count": 181,
   "metadata": {},
   "outputs": [],
   "source": [
    "#0 = 24 -60 days\n",
    "#1 = more than 60 days"
   ]
  },
  {
   "cell_type": "code",
   "execution_count": 187,
   "metadata": {},
   "outputs": [],
   "source": [
    "finale_ale[\"Severity_delay\"] = finale_ale[\"quantile_ex_1\"].apply(lambda x: 'Critical' if x == 1 else 'Severe')"
   ]
  },
  {
   "cell_type": "code",
   "execution_count": 189,
   "metadata": {},
   "outputs": [],
   "source": [
    "finale_ale.to_csv(\"delay_severity_trips.csv\",index=False)"
   ]
  }
 ],
 "metadata": {
  "kernelspec": {
   "display_name": "Python 3.8.12 ('adaexam')",
   "language": "python",
   "name": "python3"
  },
  "language_info": {
   "codemirror_mode": {
    "name": "ipython",
    "version": 3
   },
   "file_extension": ".py",
   "mimetype": "text/x-python",
   "name": "python",
   "nbconvert_exporter": "python",
   "pygments_lexer": "ipython3",
   "version": "3.8.12"
  },
  "orig_nbformat": 4,
  "vscode": {
   "interpreter": {
    "hash": "48a4b3eab8a519585fa4b0f193b9e78c0afa941fd3ce26cd14a8070e2c8dae28"
   }
  }
 },
 "nbformat": 4,
 "nbformat_minor": 2
}
